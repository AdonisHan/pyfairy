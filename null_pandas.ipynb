{
 "cells": [
  {
   "cell_type": "markdown",
   "metadata": {},
   "source": [
    "### Fairies Quick View\n",
    "- From Daniel Chen\n",
    "- Pandas\n",
    "- Dealing Nulls"
   ]
  },
  {
   "cell_type": "code",
   "execution_count": 2,
   "metadata": {},
   "outputs": [],
   "source": [
    "import pandas as pd\n",
    "import numpy as np"
   ]
  },
  {
   "cell_type": "code",
   "execution_count": 3,
   "metadata": {},
   "outputs": [],
   "source": [
    "visited = pd.read_csv('./data/survey_visited.csv')\n",
    "survey = pd.read_csv('./data/survey_survey.csv')"
   ]
  },
  {
   "cell_type": "code",
   "execution_count": 4,
   "metadata": {},
   "outputs": [
    {
     "name": "stdout",
     "output_type": "stream",
     "text": [
      "   ident   site       dated\n",
      "0    619   DR-1  1927-02-08\n",
      "1    622   DR-1  1927-02-10\n",
      "2    734   DR-3  1939-01-07\n",
      "3    735   DR-3  1930-01-12\n",
      "4    751   DR-3  1930-02-26\n",
      "5    752   DR-3         NaN\n",
      "6    837  MSK-4  1932-01-14\n",
      "7    844   DR-1  1932-03-22\n"
     ]
    }
   ],
   "source": [
    "print(visited)"
   ]
  },
  {
   "cell_type": "code",
   "execution_count": 5,
   "metadata": {},
   "outputs": [],
   "source": [
    "vs = visited.merge(survey, left_on='ident', right_on='taken')"
   ]
  },
  {
   "cell_type": "code",
   "execution_count": 6,
   "metadata": {},
   "outputs": [
    {
     "name": "stdout",
     "output_type": "stream",
     "text": [
      "    ident   site       dated  taken person quant  reading\n",
      "0     619   DR-1  1927-02-08    619   dyer   rad     9.82\n",
      "1     619   DR-1  1927-02-08    619   dyer   sal     0.13\n",
      "2     622   DR-1  1927-02-10    622   dyer   rad     7.80\n",
      "3     622   DR-1  1927-02-10    622   dyer   sal     0.09\n",
      "4     734   DR-3  1939-01-07    734     pb   rad     8.41\n",
      "5     734   DR-3  1939-01-07    734   lake   sal     0.05\n",
      "6     734   DR-3  1939-01-07    734     pb  temp   -21.50\n",
      "7     735   DR-3  1930-01-12    735     pb   rad     7.22\n",
      "8     735   DR-3  1930-01-12    735    NaN   sal     0.06\n",
      "9     735   DR-3  1930-01-12    735    NaN  temp   -26.00\n",
      "10    751   DR-3  1930-02-26    751     pb   rad     4.35\n",
      "11    751   DR-3  1930-02-26    751     pb  temp   -18.50\n",
      "12    751   DR-3  1930-02-26    751   lake   sal     0.10\n",
      "13    752   DR-3         NaN    752   lake   rad     2.19\n",
      "14    752   DR-3         NaN    752   lake   sal     0.09\n",
      "15    752   DR-3         NaN    752   lake  temp   -16.00\n",
      "16    752   DR-3         NaN    752    roe   sal    41.60\n",
      "17    837  MSK-4  1932-01-14    837   lake   rad     1.46\n",
      "18    837  MSK-4  1932-01-14    837   lake   sal     0.21\n",
      "19    837  MSK-4  1932-01-14    837    roe   sal    22.50\n",
      "20    844   DR-1  1932-03-22    844    roe   rad    11.25\n"
     ]
    }
   ],
   "source": [
    "print(vs)"
   ]
  },
  {
   "cell_type": "code",
   "execution_count": 7,
   "metadata": {},
   "outputs": [],
   "source": [
    "num_legs = pd.Series([{'goat': 4, 'amoeba' : nan}])"
   ]
  },
  {
   "cell_type": "code",
   "execution_count": 8,
   "metadata": {},
   "outputs": [
    {
     "name": "stdout",
     "output_type": "stream",
     "text": [
      "0    {'goat': 4, 'amoeba': nan}\n",
      "dtype: object\n"
     ]
    }
   ],
   "source": [
    "print(num_legs)"
   ]
  },
  {
   "cell_type": "code",
   "execution_count": 9,
   "metadata": {},
   "outputs": [],
   "source": [
    "gapminder = pd.read_csv('./data/gapminder.tsv', sep = '\\t')"
   ]
  },
  {
   "cell_type": "code",
   "execution_count": 10,
   "metadata": {
    "collapsed": true
   },
   "outputs": [
    {
     "name": "stdout",
     "output_type": "stream",
     "text": [
      "        country continent  year  lifeExp       pop    gdpPercap\n",
      "0   Afghanistan      Asia  1952   28.801   8425333   779.445314\n",
      "1   Afghanistan      Asia  1957   30.332   9240934   820.853030\n",
      "2   Afghanistan      Asia  1962   31.997  10267083   853.100710\n",
      "3   Afghanistan      Asia  1967   34.020  11537966   836.197138\n",
      "4   Afghanistan      Asia  1972   36.088  13079460   739.981106\n",
      "5   Afghanistan      Asia  1977   38.438  14880372   786.113360\n",
      "6   Afghanistan      Asia  1982   39.854  12881816   978.011439\n",
      "7   Afghanistan      Asia  1987   40.822  13867957   852.395945\n",
      "8   Afghanistan      Asia  1992   41.674  16317921   649.341395\n",
      "9   Afghanistan      Asia  1997   41.763  22227415   635.341351\n",
      "10  Afghanistan      Asia  2002   42.129  25268405   726.734055\n",
      "11  Afghanistan      Asia  2007   43.828  31889923   974.580338\n",
      "12      Albania    Europe  1952   55.230   1282697  1601.056136\n",
      "13      Albania    Europe  1957   59.280   1476505  1942.284244\n",
      "14      Albania    Europe  1962   64.820   1728137  2312.888958\n",
      "15      Albania    Europe  1967   66.220   1984060  2760.196931\n",
      "16      Albania    Europe  1972   67.690   2263554  3313.422188\n",
      "17      Albania    Europe  1977   68.930   2509048  3533.003910\n",
      "18      Albania    Europe  1982   70.420   2780097  3630.880722\n",
      "19      Albania    Europe  1987   72.000   3075321  3738.932735\n",
      "20      Albania    Europe  1992   71.581   3326498  2497.437901\n",
      "21      Albania    Europe  1997   72.950   3428038  3193.054604\n",
      "22      Albania    Europe  2002   75.651   3508512  4604.211737\n",
      "23      Albania    Europe  2007   76.423   3600523  5937.029526\n",
      "24      Algeria    Africa  1952   43.077   9279525  2449.008185\n",
      "25      Algeria    Africa  1957   45.685  10270856  3013.976023\n",
      "26      Algeria    Africa  1962   48.303  11000948  2550.816880\n",
      "27      Algeria    Africa  1967   51.407  12760499  3246.991771\n",
      "28      Algeria    Africa  1972   54.518  14760787  4182.663766\n",
      "29      Algeria    Africa  1977   58.014  17152804  4910.416756\n",
      "30      Algeria    Africa  1982   61.368  20033753  5745.160213\n",
      "31      Algeria    Africa  1987   65.799  23254956  5681.358539\n",
      "32      Algeria    Africa  1992   67.744  26298373  5023.216647\n",
      "33      Algeria    Africa  1997   69.152  29072015  4797.295051\n",
      "34      Algeria    Africa  2002   70.994  31287142  5288.040382\n",
      "35      Algeria    Africa  2007   72.301  33333216  6223.367465\n",
      "36       Angola    Africa  1952   30.015   4232095  3520.610273\n",
      "37       Angola    Africa  1957   31.999   4561361  3827.940465\n",
      "38       Angola    Africa  1962   34.000   4826015  4269.276742\n",
      "39       Angola    Africa  1967   35.985   5247469  5522.776375\n",
      "40       Angola    Africa  1972   37.928   5894858  5473.288005\n",
      "41       Angola    Africa  1977   39.483   6162675  3008.647355\n",
      "42       Angola    Africa  1982   39.942   7016384  2756.953672\n",
      "43       Angola    Africa  1987   39.906   7874230  2430.208311\n",
      "44       Angola    Africa  1992   40.647   8735988  2627.845685\n",
      "45       Angola    Africa  1997   40.963   9875024  2277.140884\n",
      "46       Angola    Africa  2002   41.003  10866106  2773.287312\n",
      "47       Angola    Africa  2007   42.731  12420476  4797.231267\n",
      "48    Argentina  Americas  1952   62.485  17876956  5911.315053\n",
      "49    Argentina  Americas  1957   64.399  19610538  6856.856212\n"
     ]
    }
   ],
   "source": [
    "print(gapminder[:50])"
   ]
  },
  {
   "cell_type": "code",
   "execution_count": 11,
   "metadata": {},
   "outputs": [
    {
     "name": "stdout",
     "output_type": "stream",
     "text": [
      "year\n",
      "1952    49.057620\n",
      "1957    51.507401\n",
      "1962    53.609249\n",
      "1967    55.678290\n",
      "1972    57.647386\n",
      "1977    59.570157\n",
      "1982    61.533197\n",
      "1987    63.212613\n",
      "1992    64.160338\n",
      "1997    65.014676\n",
      "2002    65.694923\n",
      "2007    67.007423\n",
      "Name: lifeExp, dtype: float64\n"
     ]
    }
   ],
   "source": [
    "life_exp = gapminder.groupby(['year'])['lifeExp'].mean()\n",
    "print(life_exp)"
   ]
  },
  {
   "cell_type": "code",
   "execution_count": 13,
   "metadata": {},
   "outputs": [
    {
     "name": "stdout",
     "output_type": "stream",
     "text": [
      "year\n",
      "2000          NaN\n",
      "2001          NaN\n",
      "2002    65.694923\n",
      "2003          NaN\n",
      "2004          NaN\n",
      "2005          NaN\n",
      "2006          NaN\n",
      "2007    67.007423\n",
      "2008          NaN\n",
      "2009          NaN\n",
      "Name: lifeExp, dtype: float64\n"
     ]
    },
    {
     "name": "stderr",
     "output_type": "stream",
     "text": [
      "C:\\Users\\adonist\\Anaconda3\\lib\\site-packages\\ipykernel_launcher.py:1: FutureWarning: \n",
      "Passing list-likes to .loc or [] with any missing label will raise\n",
      "KeyError in the future, you can use .reindex() as an alternative.\n",
      "\n",
      "See the documentation here:\n",
      "http://pandas.pydata.org/pandas-docs/stable/indexing.html#deprecate-loc-reindex-listlike\n",
      "  \"\"\"Entry point for launching an IPython kernel.\n"
     ]
    }
   ],
   "source": [
    "# 본래 2000~ 2009 까지 존재하지 않음 2002 ,7 빼고\n",
    "print(life_exp.loc[range(2000,2010), ])"
   ]
  },
  {
   "cell_type": "code",
   "execution_count": 14,
   "metadata": {},
   "outputs": [
    {
     "name": "stdout",
     "output_type": "stream",
     "text": [
      "year\n",
      "2002    65.694923\n",
      "2007    67.007423\n",
      "Name: lifeExp, dtype: float64\n"
     ]
    }
   ],
   "source": [
    "y2000 = life_exp[life_exp.index > 2000]\n",
    "print(y2000)"
   ]
  },
  {
   "cell_type": "markdown",
   "metadata": {},
   "source": [
    "# Two \n",
    "- 누락값 계산\n"
   ]
  },
  {
   "cell_type": "code",
   "execution_count": 15,
   "metadata": {},
   "outputs": [
    {
     "name": "stdout",
     "output_type": "stream",
     "text": [
      "Date                   122\n",
      "Day                    122\n",
      "Cases_Guinea            93\n",
      "Cases_Liberia           83\n",
      "Cases_SierraLeone       87\n",
      "Cases_Nigeria           38\n",
      "Cases_Senegal           25\n",
      "Cases_UnitedStates      18\n",
      "Cases_Spain             16\n",
      "Cases_Mali              12\n",
      "Deaths_Guinea           92\n",
      "Deaths_Liberia          81\n",
      "Deaths_SierraLeone      87\n",
      "Deaths_Nigeria          38\n",
      "Deaths_Senegal          22\n",
      "Deaths_UnitedStates     18\n",
      "Deaths_Spain            16\n",
      "Deaths_Mali             12\n",
      "dtype: int64\n"
     ]
    }
   ],
   "source": [
    "ebola = pd.read_csv('./data/country_timeseries.csv')\n",
    "print(ebola.count())"
   ]
  },
  {
   "cell_type": "code",
   "execution_count": 17,
   "metadata": {},
   "outputs": [
    {
     "name": "stdout",
     "output_type": "stream",
     "text": [
      "Date                     0\n",
      "Day                      0\n",
      "Cases_Guinea            29\n",
      "Cases_Liberia           39\n",
      "Cases_SierraLeone       35\n",
      "Cases_Nigeria           84\n",
      "Cases_Senegal           97\n",
      "Cases_UnitedStates     104\n",
      "Cases_Spain            106\n",
      "Cases_Mali             110\n",
      "Deaths_Guinea           30\n",
      "Deaths_Liberia          41\n",
      "Deaths_SierraLeone      35\n",
      "Deaths_Nigeria          84\n",
      "Deaths_Senegal         100\n",
      "Deaths_UnitedStates    104\n",
      "Deaths_Spain           106\n",
      "Deaths_Mali            110\n",
      "dtype: int64\n"
     ]
    }
   ],
   "source": [
    "num_rows = ebola.shape[0]\n",
    "num_missing = num_rows - ebola.count()\n",
    "print(num_missing)"
   ]
  },
  {
   "cell_type": "code",
   "execution_count": 18,
   "metadata": {},
   "outputs": [
    {
     "name": "stdout",
     "output_type": "stream",
     "text": [
      "1214\n"
     ]
    }
   ],
   "source": [
    "# isnull 방법\n",
    "print(np.count_nonzero(ebola.isnull()))"
   ]
  },
  {
   "cell_type": "code",
   "execution_count": 19,
   "metadata": {},
   "outputs": [
    {
     "name": "stdout",
     "output_type": "stream",
     "text": [
      "29\n"
     ]
    }
   ],
   "source": [
    "print(np.count_nonzero(ebola['Cases_Guinea'].isnull()))"
   ]
  },
  {
   "cell_type": "code",
   "execution_count": 23,
   "metadata": {},
   "outputs": [
    {
     "name": "stdout",
     "output_type": "stream",
     "text": [
      "NaN       29\n",
      " 86.0      3\n",
      " 495.0     2\n",
      " 112.0     2\n",
      " 390.0     2\n",
      " 506.0     1\n",
      " 812.0     1\n",
      " 771.0     1\n",
      " 648.0     1\n",
      " 607.0     1\n",
      "Name: Cases_Guinea, dtype: int64\n"
     ]
    }
   ],
   "source": [
    "# 지정된 열 Cases_guinea 의 빈도 count\n",
    "print(ebola.Cases_Guinea.value_counts(dropna = False).head(10))"
   ]
  },
  {
   "cell_type": "code",
   "execution_count": 24,
   "metadata": {},
   "outputs": [
    {
     "name": "stdout",
     "output_type": "stream",
     "text": [
      "         Date  Day  Cases_Guinea  Cases_Liberia  Cases_SierraLeone\n",
      "0    1/5/2015  289        2776.0            0.0            10030.0\n",
      "1    1/4/2015  288        2775.0            0.0             9780.0\n",
      "2    1/3/2015  287        2769.0         8166.0             9722.0\n",
      "3    1/2/2015  286           0.0         8157.0                0.0\n",
      "4  12/31/2014  284        2730.0         8115.0             9633.0\n",
      "5  12/28/2014  281        2706.0         8018.0             9446.0\n",
      "6  12/27/2014  280        2695.0            0.0             9409.0\n",
      "7  12/24/2014  277        2630.0         7977.0             9203.0\n",
      "8  12/21/2014  273        2597.0            0.0             9004.0\n",
      "9  12/20/2014  272        2571.0         7862.0             8939.0\n"
     ]
    }
   ],
   "source": [
    "# 누락값을 0으로\n",
    "print(ebola.fillna(0).iloc[0:10, 0:5])"
   ]
  },
  {
   "cell_type": "code",
   "execution_count": 25,
   "metadata": {},
   "outputs": [
    {
     "name": "stdout",
     "output_type": "stream",
     "text": [
      "         Date  Day  Cases_Guinea  Cases_Liberia  Cases_SierraLeone\n",
      "0    1/5/2015  289        2776.0            NaN            10030.0\n",
      "1    1/4/2015  288        2775.0            NaN             9780.0\n",
      "2    1/3/2015  287        2769.0         8166.0             9722.0\n",
      "3    1/2/2015  286        2769.0         8157.0             9722.0\n",
      "4  12/31/2014  284        2730.0         8115.0             9633.0\n",
      "5  12/28/2014  281        2706.0         8018.0             9446.0\n",
      "6  12/27/2014  280        2695.0         8018.0             9409.0\n",
      "7  12/24/2014  277        2630.0         7977.0             9203.0\n",
      "8  12/21/2014  273        2597.0         7977.0             9004.0\n",
      "9  12/20/2014  272        2571.0         7862.0             8939.0\n"
     ]
    }
   ],
   "source": [
    "# 바로이전값으로 채워넣기\n",
    "# ffilll\n",
    "print(ebola.fillna(method = 'ffill').iloc[:10, :5])"
   ]
  },
  {
   "cell_type": "code",
   "execution_count": 26,
   "metadata": {},
   "outputs": [
    {
     "name": "stdout",
     "output_type": "stream",
     "text": [
      "         Date  Day  Cases_Guinea  Cases_Liberia  Cases_SierraLeone\n",
      "0    1/5/2015  289        2776.0         8166.0            10030.0\n",
      "1    1/4/2015  288        2775.0         8166.0             9780.0\n",
      "2    1/3/2015  287        2769.0         8166.0             9722.0\n",
      "3    1/2/2015  286        2730.0         8157.0             9633.0\n",
      "4  12/31/2014  284        2730.0         8115.0             9633.0\n",
      "5  12/28/2014  281        2706.0         8018.0             9446.0\n",
      "6  12/27/2014  280        2695.0         7977.0             9409.0\n",
      "7  12/24/2014  277        2630.0         7977.0             9203.0\n",
      "8  12/21/2014  273        2597.0         7862.0             9004.0\n",
      "9  12/20/2014  272        2571.0         7862.0             8939.0\n"
     ]
    }
   ],
   "source": [
    "# bfill NaN 까지 다 고치기\n",
    "print(ebola.fillna(method = 'bfill').iloc[:10, :5])"
   ]
  },
  {
   "cell_type": "code",
   "execution_count": 27,
   "metadata": {},
   "outputs": [
    {
     "name": "stdout",
     "output_type": "stream",
     "text": [
      "         Date  Day  Cases_Guinea  Cases_Liberia  Cases_SierraLeone\n",
      "0    1/5/2015  289        2776.0            NaN            10030.0\n",
      "1    1/4/2015  288        2775.0            NaN             9780.0\n",
      "2    1/3/2015  287        2769.0         8166.0             9722.0\n",
      "3    1/2/2015  286        2749.5         8157.0             9677.5\n",
      "4  12/31/2014  284        2730.0         8115.0             9633.0\n",
      "5  12/28/2014  281        2706.0         8018.0             9446.0\n",
      "6  12/27/2014  280        2695.0         7997.5             9409.0\n",
      "7  12/24/2014  277        2630.0         7977.0             9203.0\n",
      "8  12/21/2014  273        2597.0         7919.5             9004.0\n",
      "9  12/20/2014  272        2571.0         7862.0             8939.0\n"
     ]
    }
   ],
   "source": [
    "# 사이의 중간값을 구해서 채우기\n",
    "# interpolate\n",
    "\n",
    "print(ebola.interpolate().iloc[:10,:5])"
   ]
  },
  {
   "cell_type": "code",
   "execution_count": 30,
   "metadata": {},
   "outputs": [
    {
     "name": "stdout",
     "output_type": "stream",
     "text": [
      "(122, 18)\n",
      "(1, 18)\n",
      "          Date  Day  Cases_Guinea  Cases_Liberia  Cases_SierraLeone  \\\n",
      "19  11/18/2014  241        2047.0         7082.0             6190.0   \n",
      "\n",
      "    Cases_Nigeria  Cases_Senegal  Cases_UnitedStates  Cases_Spain  Cases_Mali  \\\n",
      "19           20.0            1.0                 4.0          1.0         6.0   \n",
      "\n",
      "    Deaths_Guinea  Deaths_Liberia  Deaths_SierraLeone  Deaths_Nigeria  \\\n",
      "19         1214.0          2963.0              1267.0             8.0   \n",
      "\n",
      "    Deaths_Senegal  Deaths_UnitedStates  Deaths_Spain  Deaths_Mali  \n",
      "19             0.0                  1.0           0.0          6.0  \n"
     ]
    }
   ],
   "source": [
    "## dropna 방식\n",
    "print(ebola.shape)\n",
    "ebola_dropna = ebola.dropna()\n",
    "print(ebola_dropna.shape)\n",
    "print(ebola_dropna)"
   ]
  },
  {
   "cell_type": "code",
   "execution_count": 32,
   "metadata": {},
   "outputs": [],
   "source": [
    "# Null 값 포함된 데이터 계산하기\n",
    "ebola['Cases_multiple'] = ebola['Cases_Guinea'] + ebola['Cases_Liberia'] + ebola['Cases_SierraLeone']"
   ]
  },
  {
   "cell_type": "code",
   "execution_count": 36,
   "metadata": {},
   "outputs": [
    {
     "name": "stdout",
     "output_type": "stream",
     "text": [
      "   Cases_Guinea  Cases_Liberia  Cases_SierraLeone  Cases_multiple\n",
      "0        2776.0            NaN            10030.0             NaN\n",
      "1        2775.0            NaN             9780.0             NaN\n",
      "2        2769.0         8166.0             9722.0         20657.0\n",
      "3           NaN         8157.0                NaN             NaN\n",
      "4        2730.0         8115.0             9633.0         20478.0\n",
      "5        2706.0         8018.0             9446.0         20170.0\n",
      "6        2695.0            NaN             9409.0             NaN\n",
      "7        2630.0         7977.0             9203.0         19810.0\n",
      "8        2597.0            NaN             9004.0             NaN\n",
      "9        2571.0         7862.0             8939.0         19372.0\n"
     ]
    }
   ],
   "source": [
    "ebola_subset = ebola.loc[:, ['Cases_Guinea', 'Cases_Liberia', 'Cases_SierraLeone', 'Cases_multiple']]\n",
    "print(ebola_subset[:10])"
   ]
  },
  {
   "cell_type": "code",
   "execution_count": 37,
   "metadata": {},
   "outputs": [
    {
     "name": "stdout",
     "output_type": "stream",
     "text": [
      "84729.0\n"
     ]
    }
   ],
   "source": [
    "# skipna\n",
    "# 누락값 포함 계산\n",
    "\n",
    "print(ebola.Cases_Guinea.sum(skipna = True))"
   ]
  },
  {
   "cell_type": "code",
   "execution_count": null,
   "metadata": {},
   "outputs": [],
   "source": []
  },
  {
   "cell_type": "code",
   "execution_count": null,
   "metadata": {},
   "outputs": [],
   "source": []
  },
  {
   "cell_type": "code",
   "execution_count": null,
   "metadata": {},
   "outputs": [],
   "source": []
  },
  {
   "cell_type": "code",
   "execution_count": null,
   "metadata": {},
   "outputs": [],
   "source": []
  },
  {
   "cell_type": "code",
   "execution_count": null,
   "metadata": {},
   "outputs": [],
   "source": []
  }
 ],
 "metadata": {
  "kernelspec": {
   "display_name": "Python 3",
   "language": "python",
   "name": "python3"
  },
  "language_info": {
   "codemirror_mode": {
    "name": "ipython",
    "version": 3
   },
   "file_extension": ".py",
   "mimetype": "text/x-python",
   "name": "python",
   "nbconvert_exporter": "python",
   "pygments_lexer": "ipython3",
   "version": "3.6.4"
  }
 },
 "nbformat": 4,
 "nbformat_minor": 2
}
